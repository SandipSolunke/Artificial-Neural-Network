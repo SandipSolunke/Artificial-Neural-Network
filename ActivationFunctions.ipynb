{
  "nbformat": 4,
  "nbformat_minor": 0,
  "metadata": {
    "colab": {
      "provenance": [],
      "authorship_tag": "ABX9TyOkYD1bCCeYlGZTQ266Sjz9",
      "include_colab_link": true
    },
    "kernelspec": {
      "name": "python3",
      "display_name": "Python 3"
    },
    "language_info": {
      "name": "python"
    }
  },
  "cells": [
    {
      "cell_type": "markdown",
      "metadata": {
        "id": "view-in-github",
        "colab_type": "text"
      },
      "source": [
        "<a href=\"https://colab.research.google.com/github/SandipSolunke/Artificial-Neural-Network/blob/master/ActivationFunctions.ipynb\" target=\"_parent\"><img src=\"https://colab.research.google.com/assets/colab-badge.svg\" alt=\"Open In Colab\"/></a>"
      ]
    },
    {
      "cell_type": "markdown",
      "source": [
        "## **Activation Functions**\n",
        "\n",
        "What is Activation Function?\n",
        "\n",
        "It’s just a thing function that you use to get the output of node. It is also known as Transfer Function.\n",
        "\n",
        "Why we use Activation functions with Neural Networks?\n",
        "\n",
        "\n",
        "It is used to determine the output of neural network like yes or no. It maps the resulting values in between 0 to 1 or -1 to 1 etc. (depending upon the function).\n"
      ],
      "metadata": {
        "id": "vNg0JH6cHjwk"
      }
    },
    {
      "cell_type": "code",
      "source": [
        "import numpy as np\n",
        "import matplotlib.pyplot as plt"
      ],
      "metadata": {
        "id": "uOMJ2Cb-HqUJ"
      },
      "execution_count": 1,
      "outputs": []
    },
    {
      "cell_type": "markdown",
      "source": [
        "# **Linear Activation Function**\n",
        "\n",
        "As you can see the function is a line or linear. Therefore, the output of the functions will not be confined between any range.\n",
        "\n",
        "**Equation** : f(x) = x\n",
        "\n",
        "**Range** : (-infinity to infinity)"
      ],
      "metadata": {
        "id": "8m8egP9sHuOR"
      }
    },
    {
      "cell_type": "code",
      "source": [
        "def LinearActivation(x):\n",
        "\n",
        "    #output=nets\n",
        "    output=x\n",
        "    \n",
        "    #to put origin in the center of figure\n",
        "    ax = plt.gca()\n",
        "    ax.spines['top'].set_color('none')\n",
        "    ax.spines['left'].set_position('zero')\n",
        "    ax.spines['right'].set_color('none')\n",
        "    ax.spines['bottom'].set_position('zero')\n",
        "\n",
        "    plt.plot(x,output,color=\"red\")\n",
        "    plt.title(\"Linear Activation Function\")\n",
        "    plt.grid()\n",
        "    plt.show()\n",
        "\n",
        "x=np.arange(-6,7)\n",
        "\n",
        "LinearActivation(x)"
      ],
      "metadata": {
        "colab": {
          "base_uri": "https://localhost:8080/",
          "height": 264
        },
        "id": "tbxfr5k8HxAS",
        "outputId": "56778491-0d4e-44fe-a336-d2bf89109eb4"
      },
      "execution_count": 2,
      "outputs": [
        {
          "output_type": "display_data",
          "data": {
            "text/plain": [
              "<Figure size 432x288 with 1 Axes>"
            ],
            "image/png": "[encoded data removed]"
          },
          "metadata": {
            "needs_background": "light"
          }
        }
      ]
    },
    {
      "cell_type": "markdown",
      "source": [
        "# **Threshold Activation Function**"
      ],
      "metadata": {
        "id": "h943kuxRJKRn"
      }
    },
    {
      "cell_type": "code",
      "source": [
        "def Threshold(x,T):\n",
        "    output=np.zeros(len(x))\n",
        "\n",
        "    for i in range(len(x)):\n",
        "        if(x[i]>=T):\n",
        "            output[i]=1\n",
        "\n",
        "    \n",
        "    #to put origin in the center of figure\n",
        "    ax = plt.gca()\n",
        "    ax.spines['top'].set_color('none')\n",
        "    ax.spines['left'].set_position('zero')\n",
        "    ax.spines['right'].set_color('none')\n",
        "    ax.spines['bottom'].set_position('zero')\n",
        "\n",
        "    plt.plot(x,output,color=\"red\")\n",
        "    plt.title(\"Threshold Activation Function\")\n",
        "    plt.grid()\n",
        "    plt.show()\n",
        "\n",
        "\n",
        "\n",
        "x=np.arange(-6,7)\n",
        "T=2\n",
        "\n",
        "Threshold(x,T)"
      ],
      "metadata": {
        "colab": {
          "base_uri": "https://localhost:8080/",
          "height": 271
        },
        "id": "vioq499JJONd",
        "outputId": "4e0fa1ea-dff8-4091-a07c-94ee00f62906"
      },
      "execution_count": 10,
      "outputs": [
        {
          "output_type": "display_data",
          "data": {
            "text/plain": [
              "<Figure size 432x288 with 1 Axes>"
            ],
            "image/png": "[encoded data removed]"
          },
          "metadata": {
            "needs_background": "light"
          }
        }
      ]
    },
    {
      "cell_type": "markdown",
      "source": [
        "# **Rectified Linear Unit (RELU) Activation Function**\n",
        "\n",
        "The ReLU is the most used activation function in the world right now.Since, it is used in almost all the convolutional neural networks or deep learning.\n",
        "\n",
        "As you can see, the ReLU is half rectified (from bottom). f(z) is zero when z is less than zero and f(z) is equal to z when z is above or equal to zero.\n",
        "\n",
        "The function and its derivative both are monotonic.\n",
        "\n",
        "**Range**: [ 0 to infinity)\n",
        "\n",
        "**Equation**: f(x)=max(0,x)\n"
      ],
      "metadata": {
        "id": "j5tXp7PkH2d_"
      }
    },
    {
      "cell_type": "code",
      "source": [
        "def ReluActivation(x):\n",
        "    output=np.zeros(len(x))\n",
        "\n",
        "    for i in range(len(x)):\n",
        "        if(x[i]>0):\n",
        "            output[i]=x[i]\n",
        "\n",
        "    \n",
        "    #to put origin in the center of figure\n",
        "    ax = plt.gca()\n",
        "    ax.spines['top'].set_color('none')\n",
        "    ax.spines['left'].set_position('zero')\n",
        "    ax.spines['right'].set_color('none')\n",
        "    ax.spines['bottom'].set_position('zero')\n",
        "\n",
        "    plt.plot(x,output,color=\"red\")\n",
        "    plt.title(\"Relu Activation Function\")\n",
        "    plt.grid()\n",
        "    plt.show()\n",
        "\n",
        "x=np.arange(-6,7)\n",
        "\n",
        "ReluActivation(x)"
      ],
      "metadata": {
        "colab": {
          "base_uri": "https://localhost:8080/",
          "height": 271
        },
        "id": "OKdeCHj0IMUC",
        "outputId": "9b3e8ad1-2f68-4e27-f0f1-5db09673abf3"
      },
      "execution_count": 4,
      "outputs": [
        {
          "output_type": "display_data",
          "data": {
            "text/plain": [
              "<Figure size 432x288 with 1 Axes>"
            ],
            "image/png": "[encoded data removed]"
          },
          "metadata": {
            "needs_background": "light"
          }
        }
      ]
    },
    {
      "cell_type": "markdown",
      "source": [
        "# **Leaky RELU Activation Function**\n",
        "\n",
        "It is an attempt to solve the dying ReLU problem.\n",
        "\n",
        "The leak helps to increase the range of the ReLU function. Usually, the value of a is 0.01 or so.\n",
        "\n",
        "When a is not 0.01 then it is called Randomized ReLU.\n",
        "\n",
        "\n",
        "**Range**: [ -infinity to infinity)\n",
        "\n",
        "**Equation**: f(x)= x -for x>0 and f(x)=0.1*x for x<0\n"
      ],
      "metadata": {
        "id": "zGrwdOwnIQeC"
      }
    },
    {
      "cell_type": "code",
      "source": [
        "def LeakyRelu(x):\n",
        "\n",
        "    output=np.zeros(len(x))\n",
        "\n",
        "    for i in range(len(x)):\n",
        "        if(x[i]>0):\n",
        "            output[i]=x[i]\n",
        "        else:\n",
        "            output[i]=0.1*x[i]\n",
        "\n",
        "    \n",
        "    #to put origin in the center of figure\n",
        "    ax = plt.gca()\n",
        "    ax.spines['top'].set_color('none')\n",
        "    ax.spines['left'].set_position('zero')\n",
        "    ax.spines['right'].set_color('none')\n",
        "    ax.spines['bottom'].set_position('zero')\n",
        "\n",
        "    plt.plot(x,output,color=\"red\")\n",
        "    plt.title(\"Leaky Relu Activation Function\")\n",
        "    plt.grid()\n",
        "    plt.show()\n",
        "\n",
        "x=np.arange(-6,7)\n",
        "\n",
        "LeakyRelu(x)"
      ],
      "metadata": {
        "colab": {
          "base_uri": "https://localhost:8080/",
          "height": 264
        },
        "id": "ij2tZbOAIddo",
        "outputId": "fc8eb76a-cf2b-461a-d016-a505ccc516f6"
      },
      "execution_count": 5,
      "outputs": [
        {
          "output_type": "display_data",
          "data": {
            "text/plain": [
              "<Figure size 432x288 with 1 Axes>"
            ],
            "image/png": "[encoded data removed]"
          },
          "metadata": {
            "needs_background": "light"
          }
        }
      ]
    },
    {
      "cell_type": "markdown",
      "source": [
        "# **Prametric RELU Activation Function**\n",
        "\n",
        "Its just modified form of Leaky Relu.\n",
        "\n",
        "The input is multiplied by parameter for <0\n",
        "\n",
        "\n",
        "**Range**: [ -infinity to infinity)\n",
        "\n",
        "**Equation**: f(x)= x -for x>0 and f(x)=a*x for x<0\n"
      ],
      "metadata": {
        "id": "59w5_B9aIicF"
      }
    },
    {
      "cell_type": "code",
      "source": [
        "def ParametricRelu(x,param):\n",
        "    output=np.zeros(len(x))\n",
        "\n",
        "    for i in range(len(x)):\n",
        "        if(x[i]>0):\n",
        "            output[i]=x[i]\n",
        "        else:\n",
        "            output[i]=param*x[i]\n",
        "\n",
        "    \n",
        "    #to put origin in the center of figure\n",
        "    ax = plt.gca()\n",
        "    ax.spines['top'].set_color('none')\n",
        "    ax.spines['left'].set_position('zero')\n",
        "    ax.spines['right'].set_color('none')\n",
        "    ax.spines['bottom'].set_position('zero')\n",
        "\n",
        "    plt.plot(x,output,color=\"red\")\n",
        "    plt.title(\"Parametric Relu Activation Function\")\n",
        "    plt.grid()\n",
        "    plt.show()\n",
        "\n",
        "\n",
        "\n",
        "x=np.arange(-6,7)\n",
        "parameter=0.5\n",
        "\n",
        "ParametricRelu(x,parameter)"
      ],
      "metadata": {
        "colab": {
          "base_uri": "https://localhost:8080/",
          "height": 264
        },
        "id": "iJh6GjtlIon5",
        "outputId": "679b904d-d9bd-462b-8836-9f0f889e5801"
      },
      "execution_count": 11,
      "outputs": [
        {
          "output_type": "display_data",
          "data": {
            "text/plain": [
              "<Figure size 432x288 with 1 Axes>"
            ],
            "image/png": "[encoded data removed]"
          },
          "metadata": {
            "needs_background": "light"
          }
        }
      ]
    },
    {
      "cell_type": "markdown",
      "source": [
        "# **Sigmoid Activation Function**\n",
        "\n",
        "The Sigmoid Function curve looks like a S-shape.\n",
        "\n",
        "The main reason why we use sigmoid function is because it exists between (0 to 1). Therefore, it is especially used for models where we have to predict the probability as an output.Since probability of anything exists only between the range of 0 and 1, sigmoid is the right choice.\n",
        "\n",
        "The function is differentiable.That means, we can find the slope of the sigmoid curve at any two points.\n",
        "\n",
        "**Equation** : f(x) = 1/(1+e^(-x))"
      ],
      "metadata": {
        "id": "-mWnX23VItn7"
      }
    },
    {
      "cell_type": "code",
      "source": [
        "def Sigmoid(x):\n",
        "    output=np.zeros(len(x))\n",
        "    \n",
        "    for i in range(len(x)):\n",
        "\n",
        "        output[i]=1/(1+np.exp(-x[i]))\n",
        "\n",
        "    \n",
        "    #to put origin in the center of figure\n",
        "    ax = plt.gca()\n",
        "    ax.spines['top'].set_color('none')\n",
        "    ax.spines['left'].set_position('zero')\n",
        "    ax.spines['right'].set_color('none')\n",
        "    ax.spines['bottom'].set_position('zero')\n",
        "\n",
        "    plt.plot(x,output,color=\"red\")\n",
        "    plt.title(\"Sigmoid Activation Function\")\n",
        "    plt.grid()\n",
        "    plt.show()\n",
        "\n",
        "\n",
        "\n",
        "x=np.arange(-6,7)\n",
        "\n",
        "Sigmoid(x)"
      ],
      "metadata": {
        "colab": {
          "base_uri": "https://localhost:8080/",
          "height": 272
        },
        "id": "7pld2M6fI2gT",
        "outputId": "8dac402b-a4ff-4995-d9d2-092efc6703cb"
      },
      "execution_count": 7,
      "outputs": [
        {
          "output_type": "display_data",
          "data": {
            "text/plain": [
              "<Figure size 432x288 with 1 Axes>"
            ],
            "image/png": "[encoded data removed]"
          },
          "metadata": {
            "needs_background": "light"
          }
        }
      ]
    },
    {
      "cell_type": "markdown",
      "source": [
        "# **Tanh Activation Function**\n",
        "\n",
        "tanh is also like logistic sigmoid but better. The range of the tanh function is from (-1 to 1). tanh is also sigmoidal (s - shaped).\n",
        "\n",
        "The advantage is that the negative inputs will be mapped strongly negative and the zero inputs will be mapped near zero in the tanh graph.\n",
        "\n",
        "The function is differentiable.\n",
        "\n",
        "**Equation** : f(x) = 2/(1+e^(-x))-1"
      ],
      "metadata": {
        "id": "aBv5HshDI7mv"
      }
    },
    {
      "cell_type": "code",
      "source": [
        "def Tanh(x):\n",
        "    output=np.zeros(len(x))\n",
        "    \n",
        "    for i in range(len(x)):\n",
        "\n",
        "        output[i]=(2/(1+np.exp(-x[i])))-1\n",
        "\n",
        "    \n",
        "    #to put origin in the center of figure\n",
        "    ax = plt.gca()\n",
        "    ax.spines['top'].set_color('none')\n",
        "    ax.spines['left'].set_position('zero')\n",
        "    ax.spines['right'].set_color('none')\n",
        "    ax.spines['bottom'].set_position('zero')\n",
        "\n",
        "    plt.plot(x,output,color=\"red\")\n",
        "    plt.title(\"Tanh Activation Function\")\n",
        "    plt.grid()\n",
        "    plt.show()\n",
        "\n",
        "\n",
        "x=np.arange(-6,7)\n",
        "\n",
        "Tanh(x)"
      ],
      "metadata": {
        "colab": {
          "base_uri": "https://localhost:8080/",
          "height": 264
        },
        "id": "qWSOJBbEI_j-",
        "outputId": "2f9e507c-31e2-43c5-8227-c28f7e7e3260"
      },
      "execution_count": 8,
      "outputs": [
        {
          "output_type": "display_data",
          "data": {
            "text/plain": [
              "<Figure size 432x288 with 1 Axes>"
            ],
            "image/png": "[encoded data removed]"
          },
          "metadata": {
            "needs_background": "light"
          }
        }
      ]
    }
  ]
}