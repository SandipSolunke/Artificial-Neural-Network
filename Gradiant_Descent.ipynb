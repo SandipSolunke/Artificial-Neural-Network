{
  "nbformat": 4,
  "nbformat_minor": 0,
  "metadata": {
    "colab": {
      "provenance": [],
      "collapsed_sections": [],
      "authorship_tag": "ABX9TyMkh3j+FJad4An388178L53",
      "include_colab_link": true
    },
    "kernelspec": {
      "name": "python3",
      "display_name": "Python 3"
    },
    "language_info": {
      "name": "python"
    }
  },
  "cells": [
    {
      "cell_type": "markdown",
      "metadata": {
        "id": "view-in-github",
        "colab_type": "text"
      },
      "source": [
        "<a href=\"https://colab.research.google.com/github/SandipSolunke/Artificial-Neural-Network/blob/master/Gradiant_Descent.ipynb\" target=\"_parent\"><img src=\"https://colab.research.google.com/assets/colab-badge.svg\" alt=\"Open In Colab\"/></a>"
      ]
    },
    {
      "cell_type": "markdown",
      "source": [
        "# **Gradiant Descent For Neural Network**"
      ],
      "metadata": {
        "id": "rOaLb2bTuWyj"
      }
    },
    {
      "cell_type": "code",
      "source": [
        "import numpy as np\n",
        "import matplotlib.pyplot as plt"
      ],
      "metadata": {
        "id": "b33f1DeHuYT4"
      },
      "execution_count": 149,
      "outputs": []
    },
    {
      "cell_type": "code",
      "source": [
        "def Sigmoid(nets):\n",
        "  return 1/(1+(np.exp(-nets)))"
      ],
      "metadata": {
        "id": "9E19kM70H6-j"
      },
      "execution_count": 150,
      "outputs": []
    },
    {
      "cell_type": "code",
      "source": [
        "def Gradiant_Descent(ages,affordability,y):\n",
        "    # plt.scatter(x,y)\n",
        "    iterations=100000\n",
        "    costArray=np.zeros(iterations)\n",
        "    stepArray=np.zeros(iterations)\n",
        "\n",
        "    #Learning Rate\n",
        "    c=0.05\n",
        "    \n",
        "    #Initial values of m and b\n",
        "    w1=1\n",
        "    w2=1\n",
        "    bias=0\n",
        "    n=len(ages)\n",
        "\n",
        "    for i in range(iterations):\n",
        "        error1=0\n",
        "        error2=0\n",
        "        error3=0\n",
        "        squared_error=0\n",
        "\n",
        "        #calculating errors\n",
        "        for j in range(len(ages)):\n",
        "            #nets\n",
        "            nets=w1*ages[j]+w2*affordability[j]+bias\n",
        "\n",
        "            #output=f(nets)\n",
        "            y_pred=Sigmoid(nets)\n",
        "\n",
        "\n",
        "            error1+=ages[j]*(y[j]-y_pred)\n",
        "            error2+=affordability[j]*(y[j]-y_pred)\n",
        "            error3+=(y[j]-y_pred)\n",
        "\n",
        "            squared_error+=(y[j]-y_pred)**2\n",
        "\n",
        "        #derivative of errors\n",
        "        w1d=-(1/n)*(error1)\n",
        "        w2d=-(1/n)*(error2)\n",
        "        bd=-(1/n)*(error3)\n",
        "\n",
        "        #cost function\n",
        "        cost=squared_error/n\n",
        "        costArray[i]=cost\n",
        "        stepArray[i]=i\n",
        "\n",
        "        #changing wieghts\n",
        "        w1=w1-c*w1d\n",
        "        w2=w2-c*w2d\n",
        "        bias=bias-c*bd\n",
        "\n",
        "    \n",
        "    print(f\"Cost= {cost}, w1= {w1} ,w2={w2},bias={bias}\")\n",
        "\n",
        "    plt.plot(stepArray,costArray,color='red')\n",
        "    plt.title(\"Cost vs Iterations\")\n",
        "    plt.xlabel(\"Iterations\")\n",
        "    plt.ylabel(\"Cost\")\n",
        "\n",
        "    return w1,w2,bias"
      ],
      "metadata": {
        "id": "vCRiqks3uZhV"
      },
      "execution_count": 151,
      "outputs": []
    },
    {
      "cell_type": "code",
      "source": [
        "#Training\n",
        "\n",
        "ages=np.array([22,25,47,52,46,56,55,60,62,61,18,28,27,29,49,55,25,58,19,18,21,26,40,45,50,54,23,46])\n",
        "ages=ages/100\n",
        "affordability=np.array([1,0,1,0,1,1,0,0,1,1,1,1,0,0,1,1,0,1,0,1,1,0,1,1,1,1,1,1])\n",
        "y=np.array([0,0,1,0,1,1,0,1,1,1,0,0,0,0,1,1,1,1,0,0,0,0,1,1,1,1,0,0])\n",
        "\n",
        "w1,w2,b=Gradiant_Descent(ages,affordability,y)"
      ],
      "metadata": {
        "colab": {
          "base_uri": "https://localhost:8080/",
          "height": 313
        },
        "id": "0bE0S87zw7lW",
        "outputId": "08019357-87be-48a4-d255-dadb065ad460"
      },
      "execution_count": 152,
      "outputs": [
        {
          "output_type": "stream",
          "name": "stdout",
          "text": [
            "Cost= 0.09695723855404616, w1= 13.107506970803792 ,w2=2.1320117902603886,bias=-6.841572627755771\n"
          ]
        },
        {
          "output_type": "display_data",
          "data": {
            "text/plain": [
              "<Figure size 432x288 with 1 Axes>"
            ],
            "image/png": "[encoded data removed]"
          },
          "metadata": {
            "needs_background": "light"
          }
        }
      ]
    },
    {
      "cell_type": "code",
      "source": [
        "#Prediction\n",
        "\n",
        "age=0.35\n",
        "affordability=1\n",
        "pred=w1*age+w2*affordability+b\n",
        "pred=Sigmoid(pred)\n",
        "\n",
        "print(pred)\n",
        "if(pred>0.5):\n",
        "  print(1)\n",
        "else:\n",
        "  print(0)"
      ],
      "metadata": {
        "colab": {
          "base_uri": "https://localhost:8080/"
        },
        "id": "tSZfk9-t2fT_",
        "outputId": "082ef604-17a1-41cd-dda0-e625137cb4ee"
      },
      "execution_count": 153,
      "outputs": [
        {
          "output_type": "stream",
          "name": "stdout",
          "text": [
            "0.46955436274665363\n",
            "0\n"
          ]
        }
      ]
    }
  ]
}