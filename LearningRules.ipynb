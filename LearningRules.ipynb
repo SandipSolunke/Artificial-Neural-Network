{
  "nbformat": 4,
  "nbformat_minor": 0,
  "metadata": {
    "colab": {
      "provenance": [],
      "authorship_tag": "ABX9TyM3PHDze/eukFIu7+uNv6qS",
      "include_colab_link": true
    },
    "kernelspec": {
      "name": "python3",
      "display_name": "Python 3"
    },
    "language_info": {
      "name": "python"
    }
  },
  "cells": [
    {
      "cell_type": "markdown",
      "metadata": {
        "id": "view-in-github",
        "colab_type": "text"
      },
      "source": [
        "<a href=\"https://colab.research.google.com/github/SandipSolunke/Artificial-Neural-Network/blob/master/LearningRules.ipynb\" target=\"_parent\"><img src=\"https://colab.research.google.com/assets/colab-badge.svg\" alt=\"Open In Colab\"/></a>"
      ]
    },
    {
      "cell_type": "markdown",
      "source": [
        "## **Neural Network Learning Rules**\n",
        "\n",
        "We know that, during ANN learning, to change the input/output behavior, we need to adjust the weights. Hence, a method is required with the help of which the weights can be modified. These methods are called Learning rules, which are simply algorithms or equations. Following are some learning rules for the neural network\n",
        "\n"
      ],
      "metadata": {
        "id": "Ng_Mo8Bq-t0X"
      }
    },
    {
      "cell_type": "code",
      "source": [
        "import numpy as np"
      ],
      "metadata": {
        "id": "fK17Cuij-wdK"
      },
      "execution_count": 1,
      "outputs": []
    },
    {
      "cell_type": "markdown",
      "source": [
        "# **Hebbian Learning Rule**\n",
        "\n",
        "This rule, one of the oldest and simplest, was introduced by Donald Hebb in his book The Organization of Behavior in 1949. It is a kind of feed-forward, unsupervised learning.\n",
        "\n",
        "\n",
        "\n",
        "Mathematical Formula:\n",
        "\n",
        "**Change in weight = Δw = c*o*x**\n",
        "\n",
        "where,\n",
        "\n",
        "c=learning constant\n",
        "\n",
        "o=output or activation function\n",
        "\n",
        "x=input"
      ],
      "metadata": {
        "id": "PT94lueI-2fS"
      }
    },
    {
      "cell_type": "code",
      "source": [
        "def HebbRule(x1,x2,x3,w1,n):\n",
        "    w=w1\n",
        "\n",
        "    #learning constant\n",
        "    c=1\n",
        "\n",
        "    #n no of iterations\n",
        "    for i in range(n):\n",
        "\n",
        "        for x in(x1,x2,x3):\n",
        "            z=w.transpose()*x\n",
        "            net=0.00\n",
        "            for j in (z):\n",
        "                net+=j\n",
        "\n",
        "            #calculate output= f(net)\n",
        "            o=np.sign(net)\n",
        "\n",
        "            #delta weight=c*o*x\n",
        "            deltaW=c*o*x\n",
        "\n",
        "            #update weights\n",
        "            w=deltaW+w\n",
        "        print(f\"Weights after {i+1} iterations :\")\n",
        "        print(w)\n",
        "            \n",
        "\n",
        "x1=np.array([1,-2,1.5,0])\n",
        "x2=np.array([1,-0.5,-2.0,-1.5])\n",
        "x3=np.array([0,1,-1,1.5])\n",
        "w1=np.array([1,-1,0,0.5])\n",
        "iterations=1\n",
        "\n",
        "HebbRule(x1,x2,x3,w1,iterations)"
      ],
      "metadata": {
        "colab": {
          "base_uri": "https://localhost:8080/"
        },
        "id": "vqdpfjk6-5-V",
        "outputId": "0b6cac22-2ee3-447e-8079-1a0cc8400a02"
      },
      "execution_count": 10,
      "outputs": [
        {
          "output_type": "stream",
          "name": "stdout",
          "text": [
            "Weights after 1 iterations :\n",
            "[ 1.  -3.5  4.5  0.5]\n"
          ]
        }
      ]
    },
    {
      "cell_type": "markdown",
      "source": [
        "# **Perceptron Learning Rule**\n",
        "\n",
        "This rule is an error correcting the supervised learning algorithm of single layer feedforward networks with linear activation function, introduced by Rosenblatt.\n",
        "\n",
        "Mathematical Formula:\n",
        "\n",
        "**Change in weight = Δw = c*(d-o)*x**\n",
        "\n",
        "where,\n",
        "\n",
        "c=learning constant\n",
        "\n",
        "d=desired output\n",
        "\n",
        "o=output or activation function\n",
        "\n",
        "x=input"
      ],
      "metadata": {
        "id": "u1roboJF_Alc"
      }
    },
    {
      "cell_type": "code",
      "source": [
        "def PerceptronRule(x1,x2,x3,d1,d2,d3,w1,n):\n",
        "    #learning constant\n",
        "    c=0.1\n",
        "    w=w1\n",
        "\n",
        "    #n no of iterations/epochs\n",
        "    for i in range(n):\n",
        "\n",
        "        for x,d in([x1,d1],[x2,d2],[x3,d3]):\n",
        "            z=w.transpose()*x\n",
        "            net=0\n",
        "            for j in(z):\n",
        "                net+=j\n",
        "\n",
        "            #output=f(net)\n",
        "            o=np.sign(net)\n",
        "\n",
        "            #deltaW=c*(d-o)*x\n",
        "            deltaW=c*(d-o)*x\n",
        "\n",
        "            #w=deltaW+w\n",
        "            w=deltaW+w\n",
        "        print(f\"Weights after {i+1} iterations :\")\n",
        "        print(w)\n",
        "            \n",
        "\n",
        "x1=np.array([1,-2,0,-1])\n",
        "x2=np.array([0,1.5,-0.5,-1])\n",
        "x3=np.array([-1,1,0.5,-1])\n",
        "w1=np.array([1,-1,0,0.5])\n",
        "d1=-1\n",
        "d2=-1\n",
        "d3=1\n",
        "iterations=1\n",
        "\n",
        "PerceptronRule(x1,x2,x3,d1,d2,d3,w1,iterations)"
      ],
      "metadata": {
        "colab": {
          "base_uri": "https://localhost:8080/"
        },
        "id": "lp6hjnMq_FXM",
        "outputId": "198b8586-d534-456e-89d7-803c2b770b68"
      },
      "execution_count": 9,
      "outputs": [
        {
          "output_type": "stream",
          "name": "stdout",
          "text": [
            "Weights after 1 iterations :\n",
            "[ 0.6 -0.4  0.1  0.5]\n"
          ]
        }
      ]
    },
    {
      "cell_type": "markdown",
      "source": [
        "# **Delta Learning Rule**\n",
        "\n",
        "It is introduced by Bernard Widrow and Marcian Hoff, also called Least Mean Square LMS method, to minimize the error over all training patterns. It is kind of supervised learning algorithm with having continuous activation function.\n",
        "\n",
        "Mathematical Formula:\n",
        "\n",
        "**Change in weight = Δw = c*(d-o)*f'(net)**\n",
        "\n",
        "where,\n",
        "\n",
        "c=learning constant\n",
        "\n",
        "d=desired output\n",
        "\n",
        "o=output or activation function\n",
        "\n",
        "x=input"
      ],
      "metadata": {
        "id": "kB4Lwf8E_OzH"
      }
    },
    {
      "cell_type": "code",
      "source": [
        "def DeltaRule(x1,x2,x3,d1,d2,d3,w,n):\n",
        "    #learning constant\n",
        "    c=0.1\n",
        "\n",
        "    #epochs/no of iterations\n",
        "    for i in range(n):\n",
        "        for x,d in ([x1,d1],[x2,d2],[x3,d3]):\n",
        "\n",
        "            net=0    \n",
        "            z=w.transpose()*x\n",
        "\n",
        "            for j in z:\n",
        "                net+=j\n",
        "            \n",
        "            #output=f(net)\n",
        "            o=np.tanh(net)\n",
        "            \n",
        "            #f'(net)\n",
        "            o_der=1/2*(1-o**2)\n",
        "            \n",
        "            #deltaw=c*(d-o)*f'(net)\n",
        "            deltaW=c*(d-o)*o_der\n",
        "\n",
        "            #new weight\n",
        "            w=deltaW+w\n",
        "        print(f\"Weights after {i+1} iterations :\")\n",
        "        print(w)\n",
        "\n",
        "\n",
        "x1=np.array([1,-2,0,-1])\n",
        "x2=np.array([0,1.5,-0.5,-1])\n",
        "x3=np.array([-1,1,0.5,-1])\n",
        "d1=-1\n",
        "d2=-1\n",
        "d3=1\n",
        "w=np.array([1,-1,0,0.5])\n",
        "iterations=1\n",
        "\n",
        "DeltaRule(x1,x2,x3,d1,d2,d3,w,iterations)"
      ],
      "metadata": {
        "colab": {
          "base_uri": "https://localhost:8080/"
        },
        "id": "lxM2vOe2_RiU",
        "outputId": "dcfd9803-8af3-4db5-9b61-ebf5a1201c87"
      },
      "execution_count": 8,
      "outputs": [
        {
          "output_type": "stream",
          "name": "stdout",
          "text": [
            "Weights after 1 iterations :\n",
            "[ 9.99880101e-01 -1.00011990e+00 -1.19898579e-04  4.99880101e-01]\n"
          ]
        }
      ]
    }
  ]
}